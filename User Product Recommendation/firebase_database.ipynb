{
 "cells": [
  {
   "cell_type": "code",
   "execution_count": 4,
   "metadata": {},
   "outputs": [],
   "source": [
    "import requests\n",
    "import json"
   ]
  },
  {
   "cell_type": "code",
   "execution_count": 45,
   "metadata": {},
   "outputs": [],
   "source": [
    "def retrieve_products_firebase(db_config='db_config.ini'):\n",
    "    #   config = configparser.ConfigParser()\n",
    "    #   config.read(db_config)\n",
    "    #   project = config['firebase']['project']\n",
    "    #   table = config['firebase']['table']\n",
    "    table = 'aaaa'\n",
    "    url = f\"https://product-recommendation-d6709-default-rtdb.europe-west1.firebasedatabase.app/{table}.json\"\n",
    "    resp = requests.get(url)\n",
    "    json_data = resp.json()\n",
    "    print(json_data)\n"
   ]
  },
  {
   "cell_type": "code",
   "execution_count": 46,
   "metadata": {},
   "outputs": [
    {
     "name": "stdout",
     "output_type": "stream",
     "text": [
      "avvvv\n"
     ]
    }
   ],
   "source": [
    "retrieve_products_firebase()"
   ]
  },
  {
   "cell_type": "code",
   "execution_count": 37,
   "metadata": {},
   "outputs": [],
   "source": []
  },
  {
   "cell_type": "code",
   "execution_count": null,
   "metadata": {},
   "outputs": [],
   "source": []
  }
 ],
 "metadata": {
  "kernelspec": {
   "display_name": "Python 3",
   "language": "python",
   "name": "python3"
  },
  "language_info": {
   "codemirror_mode": {
    "name": "ipython",
    "version": 3
   },
   "file_extension": ".py",
   "mimetype": "text/x-python",
   "name": "python",
   "nbconvert_exporter": "python",
   "pygments_lexer": "ipython3",
   "version": "3.7.9"
  }
 },
 "nbformat": 4,
 "nbformat_minor": 4
}
