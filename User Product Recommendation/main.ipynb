{
 "cells": [
  {
   "cell_type": "code",
   "execution_count": 4,
   "metadata": {},
   "outputs": [],
   "source": [
    "import warnings\n",
    "warnings.filterwarnings('ignore')\n",
    "\n",
    "import face_detection\n",
    "import similar_products\n",
    "import firebase_database as database"
   ]
  },
  {
   "cell_type": "code",
   "execution_count": 6,
   "metadata": {},
   "outputs": [],
   "source": [
    "def get_recommendations(customer_image):\n",
    "    customer = face_detection.detect(customer_image)\n",
    "    print(customer)\n",
    "    \n",
    "    products = database.retrieve_products(customer['name'])\n",
    "    print(products)\n",
    "\n",
    "    for product in products:\n",
    "        recommendations = similar_products.similar(product_id=product)\n",
    "        top_recommendation = recommendations[0]\n",
    "        print(top_recommendation)"
   ]
  },
  {
   "cell_type": "code",
   "execution_count": 2,
   "metadata": {},
   "outputs": [],
   "source": [
    "customer_image = r'C:\\Users\\Gray\\Data Science Projects\\FaceNet Face Detection\\Celebrity Faces Dataset\\test\\David_Beckham\\David_Beckham_0028.jpg'"
   ]
  },
  {
   "cell_type": "code",
   "execution_count": 7,
   "metadata": {},
   "outputs": [
    {
     "name": "stdout",
     "output_type": "stream",
     "text": [
      "{'name': 'David_Beckham', 'probability': 45.76563041139413}\n",
      "[711158472, 711159460, 711179024]\n",
      "{'title': 'Sony PlayStation 4 (Latest Model)- 500 GB Jet Black Console', 'similarity': 0.9791126251220703}\n",
      "{'title': 'Dirt Devil Power Air Corded Bagless Stick Vacuum, SD20505', 'similarity': 0.8505730032920837}\n",
      "{'title': 'NFL Juniors Green Bay Packers Rodgers Scoop Neck Sweatshirt', 'similarity': 0.8662058115005493}\n"
     ]
    }
   ],
   "source": [
    "get_recommendations(customer_image)"
   ]
  },
  {
   "cell_type": "code",
   "execution_count": null,
   "metadata": {},
   "outputs": [],
   "source": []
  }
 ],
 "metadata": {
  "kernelspec": {
   "display_name": "Python 3",
   "language": "python",
   "name": "python3"
  },
  "language_info": {
   "codemirror_mode": {
    "name": "ipython",
    "version": 3
   },
   "file_extension": ".py",
   "mimetype": "text/x-python",
   "name": "python",
   "nbconvert_exporter": "python",
   "pygments_lexer": "ipython3",
   "version": "3.7.9"
  }
 },
 "nbformat": 4,
 "nbformat_minor": 4
}
