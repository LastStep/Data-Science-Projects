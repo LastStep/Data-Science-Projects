{
 "cells": [
  {
   "cell_type": "code",
   "execution_count": 70,
   "metadata": {},
   "outputs": [],
   "source": [
    "import pandas as pd\n",
    "\n",
    "import nltk\n",
    "from gensim.models import Word2Vec \n",
    "from gensim.models.doc2vec import Doc2Vec\n",
    "from gensim.models.doc2vec import TaggedDocument\n",
    "\n",
    "import requests, re, random"
   ]
  },
  {
   "cell_type": "code",
   "execution_count": 2,
   "metadata": {},
   "outputs": [],
   "source": [
    "from nltk.corpus import stopwords\n",
    "stop_words = stopwords.words(\"english\")\n",
    "\n",
    "def cleanRawText(text):\n",
    "    \"\"\"\n",
    "    Input : String of Text\n",
    "    Output: List of Words\n",
    "    \n",
    "    \"\"\"\n",
    "    #To lower\n",
    "    text = text.lower()\n",
    "    #Removing Unicode Characters\n",
    "    text = text.encode('ascii', 'ignore').decode()\n",
    "    #Removing Links\n",
    "    text = re.sub(\"https*\\S+\", \"\", text)\n",
    "    text = re.sub(\"www.*\\S+\", \"\", text)\n",
    "    #Removing Ticks and the Next Character\n",
    "    text = re.sub(\"\\'\\w+\", '', text)\n",
    "    #Removing Punctuation except '.'\n",
    "    text = re.sub(\"[^\\w\\s]\", '', text)\n",
    "    #Removing Numbers and Extra Lines\n",
    "    text = re.sub(\"[\\r\\n\\d\\_]\", ' ', text)\n",
    "    #Removing Extra Spaces\n",
    "    text = re.sub(\" +\", ' ', text)\n",
    "    \n",
    "    #Removing StopWords\n",
    "    text = [word for word in text.split(' ') if word not in stop_words]\n",
    "    return text"
   ]
  },
  {
   "cell_type": "code",
   "execution_count": 5,
   "metadata": {},
   "outputs": [],
   "source": [
    "df = pd.read_csv('ecommerce.csv')"
   ]
  },
  {
   "cell_type": "code",
   "execution_count": 6,
   "metadata": {},
   "outputs": [
    {
     "data": {
      "text/html": [
       "<div>\n",
       "<style scoped>\n",
       "    .dataframe tbody tr th:only-of-type {\n",
       "        vertical-align: middle;\n",
       "    }\n",
       "\n",
       "    .dataframe tbody tr th {\n",
       "        vertical-align: top;\n",
       "    }\n",
       "\n",
       "    .dataframe thead th {\n",
       "        text-align: right;\n",
       "    }\n",
       "</style>\n",
       "<table border=\"1\" class=\"dataframe\">\n",
       "  <thead>\n",
       "    <tr style=\"text-align: right;\">\n",
       "      <th></th>\n",
       "      <th>_unit_id</th>\n",
       "      <th>relevance</th>\n",
       "      <th>relevance:variance</th>\n",
       "      <th>product_image</th>\n",
       "      <th>product_link</th>\n",
       "      <th>product_price</th>\n",
       "      <th>product_title</th>\n",
       "      <th>query</th>\n",
       "      <th>rank</th>\n",
       "      <th>source</th>\n",
       "      <th>url</th>\n",
       "      <th>product_description</th>\n",
       "    </tr>\n",
       "  </thead>\n",
       "  <tbody>\n",
       "    <tr>\n",
       "      <th>0</th>\n",
       "      <td>711158459</td>\n",
       "      <td>3.67</td>\n",
       "      <td>0.471</td>\n",
       "      <td>http://thumbs2.ebaystatic.com/d/l225/m/mzvzEUI...</td>\n",
       "      <td>http://www.ebay.com/itm/Sony-PlayStation-4-PS4...</td>\n",
       "      <td>$329.98</td>\n",
       "      <td>Sony PlayStation 4 (PS4) (Latest Model)- 500 G...</td>\n",
       "      <td>playstation 4</td>\n",
       "      <td>1</td>\n",
       "      <td>eBay</td>\n",
       "      <td>http://www.ebay.com/sch/i.html?_from=R40&amp;_trks...</td>\n",
       "      <td>The PlayStation 4 system opens the door to an ...</td>\n",
       "    </tr>\n",
       "    <tr>\n",
       "      <th>1</th>\n",
       "      <td>711158460</td>\n",
       "      <td>4.00</td>\n",
       "      <td>0.000</td>\n",
       "      <td>http://thumbs3.ebaystatic.com/d/l225/m/mJNDmSy...</td>\n",
       "      <td>http://www.ebay.com/itm/Sony-PlayStation-4-Lat...</td>\n",
       "      <td>$324.84</td>\n",
       "      <td>Sony PlayStation 4 (Latest Model)- 500 GB Jet ...</td>\n",
       "      <td>playstation 4</td>\n",
       "      <td>2</td>\n",
       "      <td>eBay</td>\n",
       "      <td>http://www.ebay.com/sch/i.html?_from=R40&amp;_trks...</td>\n",
       "      <td>The PlayStation 4 system opens the door to an ...</td>\n",
       "    </tr>\n",
       "    <tr>\n",
       "      <th>2</th>\n",
       "      <td>711158461</td>\n",
       "      <td>4.00</td>\n",
       "      <td>0.000</td>\n",
       "      <td>http://thumbs4.ebaystatic.com/d/l225/m/m10NZXA...</td>\n",
       "      <td>http://www.ebay.com/itm/Sony-PlayStation-4-PS4...</td>\n",
       "      <td>$324.83</td>\n",
       "      <td>Sony PlayStation 4 PS4 500 GB Jet Black Console</td>\n",
       "      <td>playstation 4</td>\n",
       "      <td>3</td>\n",
       "      <td>eBay</td>\n",
       "      <td>http://www.ebay.com/sch/i.html?_from=R40&amp;_trks...</td>\n",
       "      <td>The PlayStation 4 system opens the door to an ...</td>\n",
       "    </tr>\n",
       "    <tr>\n",
       "      <th>3</th>\n",
       "      <td>711158462</td>\n",
       "      <td>3.67</td>\n",
       "      <td>0.471</td>\n",
       "      <td>http://thumbs2.ebaystatic.com/d/l225/m/mZZXTmA...</td>\n",
       "      <td>http://www.ebay.com/itm/Sony-PlayStation-4-500...</td>\n",
       "      <td>$350.00</td>\n",
       "      <td>Sony - PlayStation 4 500GB The Last of Us Rema...</td>\n",
       "      <td>playstation 4</td>\n",
       "      <td>4</td>\n",
       "      <td>eBay</td>\n",
       "      <td>http://www.ebay.com/sch/i.html?_from=R40&amp;_trks...</td>\n",
       "      <td>NaN</td>\n",
       "    </tr>\n",
       "    <tr>\n",
       "      <th>4</th>\n",
       "      <td>711158463</td>\n",
       "      <td>3.33</td>\n",
       "      <td>0.471</td>\n",
       "      <td>http://thumbs3.ebaystatic.com/d/l225/m/mzvzEUI...</td>\n",
       "      <td>http://www.ebay.com/itm/Sony-PlayStation-4-PS4...</td>\n",
       "      <td>$308.00\\nTrending at\\n$319.99</td>\n",
       "      <td>Sony PlayStation 4 (PS4) (Latest Model)- 500 G...</td>\n",
       "      <td>playstation 4</td>\n",
       "      <td>5</td>\n",
       "      <td>eBay</td>\n",
       "      <td>http://www.ebay.com/sch/i.html?_from=R40&amp;_trks...</td>\n",
       "      <td>The PlayStation 4 system opens the door to an ...</td>\n",
       "    </tr>\n",
       "  </tbody>\n",
       "</table>\n",
       "</div>"
      ],
      "text/plain": [
       "    _unit_id  relevance  relevance:variance  \\\n",
       "0  711158459       3.67               0.471   \n",
       "1  711158460       4.00               0.000   \n",
       "2  711158461       4.00               0.000   \n",
       "3  711158462       3.67               0.471   \n",
       "4  711158463       3.33               0.471   \n",
       "\n",
       "                                       product_image  \\\n",
       "0  http://thumbs2.ebaystatic.com/d/l225/m/mzvzEUI...   \n",
       "1  http://thumbs3.ebaystatic.com/d/l225/m/mJNDmSy...   \n",
       "2  http://thumbs4.ebaystatic.com/d/l225/m/m10NZXA...   \n",
       "3  http://thumbs2.ebaystatic.com/d/l225/m/mZZXTmA...   \n",
       "4  http://thumbs3.ebaystatic.com/d/l225/m/mzvzEUI...   \n",
       "\n",
       "                                        product_link  \\\n",
       "0  http://www.ebay.com/itm/Sony-PlayStation-4-PS4...   \n",
       "1  http://www.ebay.com/itm/Sony-PlayStation-4-Lat...   \n",
       "2  http://www.ebay.com/itm/Sony-PlayStation-4-PS4...   \n",
       "3  http://www.ebay.com/itm/Sony-PlayStation-4-500...   \n",
       "4  http://www.ebay.com/itm/Sony-PlayStation-4-PS4...   \n",
       "\n",
       "                   product_price  \\\n",
       "0                       $329.98    \n",
       "1                       $324.84    \n",
       "2                       $324.83    \n",
       "3                       $350.00    \n",
       "4  $308.00\\nTrending at\\n$319.99   \n",
       "\n",
       "                                       product_title          query  rank  \\\n",
       "0  Sony PlayStation 4 (PS4) (Latest Model)- 500 G...  playstation 4     1   \n",
       "1  Sony PlayStation 4 (Latest Model)- 500 GB Jet ...  playstation 4     2   \n",
       "2    Sony PlayStation 4 PS4 500 GB Jet Black Console  playstation 4     3   \n",
       "3  Sony - PlayStation 4 500GB The Last of Us Rema...  playstation 4     4   \n",
       "4  Sony PlayStation 4 (PS4) (Latest Model)- 500 G...  playstation 4     5   \n",
       "\n",
       "  source                                                url  \\\n",
       "0   eBay  http://www.ebay.com/sch/i.html?_from=R40&_trks...   \n",
       "1   eBay  http://www.ebay.com/sch/i.html?_from=R40&_trks...   \n",
       "2   eBay  http://www.ebay.com/sch/i.html?_from=R40&_trks...   \n",
       "3   eBay  http://www.ebay.com/sch/i.html?_from=R40&_trks...   \n",
       "4   eBay  http://www.ebay.com/sch/i.html?_from=R40&_trks...   \n",
       "\n",
       "                                 product_description  \n",
       "0  The PlayStation 4 system opens the door to an ...  \n",
       "1  The PlayStation 4 system opens the door to an ...  \n",
       "2  The PlayStation 4 system opens the door to an ...  \n",
       "3                                                NaN  \n",
       "4  The PlayStation 4 system opens the door to an ...  "
      ]
     },
     "execution_count": 6,
     "metadata": {},
     "output_type": "execute_result"
    }
   ],
   "source": [
    "df.head()"
   ]
  },
  {
   "cell_type": "code",
   "execution_count": 7,
   "metadata": {},
   "outputs": [],
   "source": [
    "df = df.dropna(subset=['product_title', 'product_description'])"
   ]
  },
  {
   "cell_type": "code",
   "execution_count": 9,
   "metadata": {},
   "outputs": [],
   "source": [
    "df_text = list(df.product_description.apply(cleanRawText))"
   ]
  },
  {
   "cell_type": "code",
   "execution_count": 23,
   "metadata": {},
   "outputs": [],
   "source": [
    "def tagged_document(list_of_list_of_words):\n",
    "   for i, list_of_words in enumerate(list_of_list_of_words):\n",
    "      yield TaggedDocument(list_of_words, [i])\n",
    "        \n",
    "dataDoc = list(tagged_document(df_text))"
   ]
  },
  {
   "cell_type": "code",
   "execution_count": 24,
   "metadata": {},
   "outputs": [
    {
     "name": "stdout",
     "output_type": "stream",
     "text": [
      "Doc2Vec(dm/m,d40,n5,w5,mc2,s0.001,t3)\n"
     ]
    }
   ],
   "source": [
    "modelDoc = Doc2Vec(vector_size=40, min_count=2, epochs=30)\n",
    "\n",
    "modelDoc.build_vocab(dataDoc)\n",
    "\n",
    "modelDoc.train(dataDoc, total_examples=model.corpus_count, epochs=10)\n",
    "\n",
    "print(modelDoc)"
   ]
  },
  {
   "cell_type": "code",
   "execution_count": 26,
   "metadata": {},
   "outputs": [
    {
     "data": {
      "text/plain": [
       "['playstation',\n",
       " 'system',\n",
       " 'opens',\n",
       " 'door',\n",
       " 'incredible',\n",
       " 'journey',\n",
       " 'immersive',\n",
       " 'new',\n",
       " 'gaming',\n",
       " 'worlds',\n",
       " 'deeply',\n",
       " 'connected',\n",
       " 'community',\n",
       " 'step',\n",
       " 'living',\n",
       " 'breathing',\n",
       " 'hero',\n",
       " 'epic',\n",
       " 'explore',\n",
       " 'gritty']"
      ]
     },
     "execution_count": 26,
     "metadata": {},
     "output_type": "execute_result"
    }
   ],
   "source": [
    "list(modelDoc.wv.vocab)[:20]"
   ]
  },
  {
   "cell_type": "code",
   "execution_count": 33,
   "metadata": {},
   "outputs": [
    {
     "data": {
      "text/plain": [
       "[('gamers', 0.8947846293449402),\n",
       " ('gameplay', 0.8494644165039062),\n",
       " ('broadcast', 0.8432755470275879),\n",
       " ('immersive', 0.8375876545906067),\n",
       " ('gamer', 0.8348780274391174),\n",
       " ('interactive', 0.8230664730072021),\n",
       " ('listening', 0.8209339380264282),\n",
       " ('amplified', 0.8180497884750366),\n",
       " ('entertainment', 0.8026647567749023),\n",
       " ('communication', 0.7968127727508545)]"
      ]
     },
     "execution_count": 33,
     "metadata": {},
     "output_type": "execute_result"
    }
   ],
   "source": [
    "modelDoc.wv.most_similar('gaming')"
   ]
  },
  {
   "cell_type": "code",
   "execution_count": 106,
   "metadata": {},
   "outputs": [],
   "source": [
    "def similar_products(product):\n",
    "    productDes = cleanRawText(df.product_description.loc[(df.product_title == product)].values[0])\n",
    "    productVec = modelDoc.infer_vector(productDes)\n",
    "    similar = modelDoc.docvecs.most_similar([productVec])\n",
    "    for tag, similarity in similar:\n",
    "        print(df.product_title.iloc[tag])\n",
    "        print(similarity)"
   ]
  },
  {
   "cell_type": "code",
   "execution_count": 107,
   "metadata": {},
   "outputs": [],
   "source": [
    "def random_product():\n",
    "    randomProduct = df.product_title.sample(1).values[0]\n",
    "    print(randomProduct)\n",
    "    print('----------------')\n",
    "    similar_products(randomProduct)"
   ]
  },
  {
   "cell_type": "code",
   "execution_count": 108,
   "metadata": {},
   "outputs": [
    {
     "name": "stdout",
     "output_type": "stream",
     "text": [
      "Seiko Clocks Melodies in Motion Victoria Wall clock #QXM498GRH\n",
      "----------------\n",
      "Seiko Clocks Melodies in Motion Victoria Wall clock #QXM498GRH\n",
      "0.9362793564796448\n",
      "Seiko Clocks Melodies in Motion Marquis wall clock #QXM496BRH\n",
      "0.8569459915161133\n",
      "Antique Replica Just On Time London England Large Wood Table Clock\n",
      "0.7913411259651184\n",
      "Bohemian 5 Light Candle Chandelier Finish: Polished Brass, Crystal Type: Swarovski Spectra\n",
      "0.764927864074707\n",
      "Bohemian 10 Light Candle Chandelier Finish: Chrome, Crystal Type: Majestic Wood Polished\n",
      "0.75298672914505\n",
      "Bohemian 8 Light Candle Chandelier Finish: Polished Brass, Crystal Type: Swarovski Spectra\n",
      "0.7524799704551697\n",
      "Manor court Wall Clock by Bulova - 11.25 Inches Wide\n",
      "0.7293360829353333\n",
      "Woodland Imports Artistically Timeless Metal Table Clock\n",
      "0.7147550582885742\n",
      "Metal/ Wood Mesh Pattern Wall Clock\n",
      "0.6795026659965515\n",
      "Fossil Women's Jaqueline Watch in Polished Rose Goldtone with Sand Leather Strap Women's\n",
      "0.6725337505340576\n"
     ]
    }
   ],
   "source": [
    "random_product()"
   ]
  },
  {
   "cell_type": "code",
   "execution_count": 109,
   "metadata": {},
   "outputs": [
    {
     "name": "stdout",
     "output_type": "stream",
     "text": [
      "Cotton Tale Nightingale Decorative Pillow Pack\n",
      "----------------\n",
      "Cotton Tale Nightingale Decorative Pillow Pack\n",
      "0.9125806093215942\n",
      "Cotton Tale Penny Lane Pillow Pack\n",
      "0.79416424036026\n",
      "Cotton Tale Sundance Pillow Pack\n",
      "0.7909402251243591\n",
      "Layla Chenille Bedspread (Shams Sold Separately)\n",
      "0.7799346446990967\n",
      "Zuma 18x18 Throw Pillows (Set of 2)\n",
      "0.7785131335258484\n",
      "PB Paws Pet Collection Puppy Paws Gold Tapestry Decorative Pillows (Set of 2)\n",
      "0.7769656181335449\n",
      "Layla King Bedspread by LaMont\n",
      "0.7683161497116089\n",
      "Ralph Lauren Girl's Floral Cotton Sateen Dress - Yellow - Size 14\n",
      "0.7530744075775146\n",
      "Madison Park Sheridan 7-Piece Comforter Set\n",
      "0.7436462640762329\n",
      "16 Schwinn Cosmo Boys' Bike\"\n",
      "0.7389103174209595\n"
     ]
    }
   ],
   "source": [
    "random_product()"
   ]
  },
  {
   "cell_type": "code",
   "execution_count": 110,
   "metadata": {},
   "outputs": [
    {
     "name": "stdout",
     "output_type": "stream",
     "text": [
      "Clarins Extra-Firming Eye Wrinkle 0.5-ounce Smoothing Cream\n",
      "----------------\n",
      "RoC Retinol Correxion Eye Cream\n",
      "0.94133460521698\n",
      "Boots No7 Lift & Luminate Eye Cream, .5 fl oz\n",
      "0.9325252771377563\n",
      "Lifting/Firming Solutions Kit by Estee Lauder for Unisex - 2 Pc Kit 1.7oz Perfectionist (CP+R) Wrinkle Lifting Firming Serum - All Skin Types, 1.7oz Resilience Lift Firming/Sculpting Face and Neck Cream SPF 15 - Normal/Combination Skin\n",
      "0.9190438985824585\n",
      "Cellular Laboratories De-Aging Eye Creme\n",
      "0.9168297052383423\n",
      "RoC Retinol Correxion Eye Cream\n",
      "0.9123532772064209\n",
      "Clinique All About Eye Rich 0.5-ounce Cream\n",
      "0.9102678298950195\n",
      "Muk Luks Alaska Short Snow Boot\n",
      "0.9096645712852478\n",
      "Harley-Davidson Safety Eyewear 883-HD510 Metal Frame Blue Mirrorlens\n",
      "0.9074656963348389\n",
      "Neutrogena Rapid Wrinkle Repair Eye Cream\n",
      "0.9047814607620239\n",
      "EDGE DiskGO Portable - hard drive - 500 GB - USB 2.0\n",
      "0.9032014608383179\n"
     ]
    }
   ],
   "source": [
    "random_product()"
   ]
  },
  {
   "cell_type": "code",
   "execution_count": 111,
   "metadata": {},
   "outputs": [
    {
     "name": "stdout",
     "output_type": "stream",
     "text": [
      "Voodoo Tactical Mens Coyote Tan Horizontal Shotgun Shell Tactical Pouch Bag NEW\n",
      "----------------\n",
      "Voodoo Tactical Mens Coyote Tan Horizontal Shotgun Shell Tactical Pouch Bag NEW\n",
      "0.9118974208831787\n",
      "Overland 22-inch Oversized Duffel Bag\n",
      "0.7414513826370239\n",
      "NcSTAR CV12SHCU Vism By Ncstar Tactical Shotshell Carrier-Urban Gray\n",
      "0.7383074164390564\n",
      "Voodoo Tactical MOLLE Compatible Shotgun Shell Ammo Pouch - A-TACS\n",
      "0.7188911437988281\n",
      "Black MOLLE Shotgun Shell Ammo Pouch from Charlie Delta Tactical\n",
      "0.6985151767730713\n",
      "Victorinox Centurion Multipurpose Tool\n",
      "0.6958184242248535\n",
      "Victorinox Swiss Army Outrider Multipurpose Tool\n",
      "0.6896765232086182\n",
      "EdgeWork Pick Your Poison Full Tang Tactical Belt Knife\n",
      "0.6771774291992188\n",
      "Alpine Swiss Mens Trifold Wallet Genuine Leather Card Case ID Window Billfold NW Brown One Size\n",
      "0.6765384674072266\n",
      "Stansport Traveler Duffle Bag, 18 x 36\"\"\n",
      "0.6753666400909424\n"
     ]
    }
   ],
   "source": [
    "random_product()"
   ]
  },
  {
   "cell_type": "code",
   "execution_count": 112,
   "metadata": {},
   "outputs": [],
   "source": [
    "modelDoc.save(\"d2v.model\")"
   ]
  },
  {
   "cell_type": "code",
   "execution_count": null,
   "metadata": {},
   "outputs": [],
   "source": []
  }
 ],
 "metadata": {
  "kernelspec": {
   "display_name": "Python 3",
   "language": "python",
   "name": "python3"
  },
  "language_info": {
   "codemirror_mode": {
    "name": "ipython",
    "version": 3
   },
   "file_extension": ".py",
   "mimetype": "text/x-python",
   "name": "python",
   "nbconvert_exporter": "python",
   "pygments_lexer": "ipython3",
   "version": "3.7.9"
  }
 },
 "nbformat": 4,
 "nbformat_minor": 4
}
