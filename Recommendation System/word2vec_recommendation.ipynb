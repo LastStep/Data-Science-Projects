{
 "cells": [
  {
   "cell_type": "code",
   "execution_count": 1,
   "metadata": {},
   "outputs": [],
   "source": [
    "import pandas as pd\n",
    "\n",
    "import nltk\n",
    "from gensim.models import Word2Vec \n",
    "from gensim.models.doc2vec import Doc2Vec\n",
    "from gensim.models.doc2vec import TaggedDocument\n",
    "\n",
    "import requests, re, random"
   ]
  },
  {
   "cell_type": "code",
   "execution_count": 2,
   "metadata": {},
   "outputs": [],
   "source": [
    "from nltk.corpus import stopwords\n",
    "stop_words = stopwords.words(\"english\")\n",
    "\n",
    "def cleanRawText(text):\n",
    "    \"\"\"\n",
    "    Input : String of Text\n",
    "    Output: List of Words\n",
    "    \n",
    "    \"\"\"\n",
    "    #To lower\n",
    "    text = text.lower()\n",
    "    #Removing Unicode Characters\n",
    "    text = text.encode('ascii', 'ignore').decode()\n",
    "    #Removing Links\n",
    "    text = re.sub(\"https*\\S+\", \"\", text)\n",
    "    text = re.sub(\"www.*\\S+\", \"\", text)\n",
    "    #Removing Ticks and the Next Character\n",
    "    text = re.sub(\"\\'\\w+\", '', text)\n",
    "    #Removing Punctuation except '.'\n",
    "    text = re.sub(\"[^\\w\\s]\", '', text)\n",
    "    #Removing Numbers and Extra Lines\n",
    "    text = re.sub(\"[\\r\\n\\d\\_]\", ' ', text)\n",
    "    #Removing Extra Spaces\n",
    "    text = re.sub(\" +\", ' ', text)\n",
    "    \n",
    "    #Removing StopWords\n",
    "    text = [word for word in text.split(' ') if word not in stop_words]\n",
    "    return text"
   ]
  },
  {
   "cell_type": "code",
   "execution_count": 3,
   "metadata": {},
   "outputs": [],
   "source": [
    "df = pd.read_csv('ecommerce.csv')"
   ]
  },
  {
   "cell_type": "code",
   "execution_count": 4,
   "metadata": {},
   "outputs": [
    {
     "data": {
      "text/html": [
       "<div>\n",
       "<style scoped>\n",
       "    .dataframe tbody tr th:only-of-type {\n",
       "        vertical-align: middle;\n",
       "    }\n",
       "\n",
       "    .dataframe tbody tr th {\n",
       "        vertical-align: top;\n",
       "    }\n",
       "\n",
       "    .dataframe thead th {\n",
       "        text-align: right;\n",
       "    }\n",
       "</style>\n",
       "<table border=\"1\" class=\"dataframe\">\n",
       "  <thead>\n",
       "    <tr style=\"text-align: right;\">\n",
       "      <th></th>\n",
       "      <th>_unit_id</th>\n",
       "      <th>relevance</th>\n",
       "      <th>relevance:variance</th>\n",
       "      <th>product_image</th>\n",
       "      <th>product_link</th>\n",
       "      <th>product_price</th>\n",
       "      <th>product_title</th>\n",
       "      <th>query</th>\n",
       "      <th>rank</th>\n",
       "      <th>source</th>\n",
       "      <th>url</th>\n",
       "      <th>product_description</th>\n",
       "    </tr>\n",
       "  </thead>\n",
       "  <tbody>\n",
       "    <tr>\n",
       "      <th>0</th>\n",
       "      <td>711158459</td>\n",
       "      <td>3.67</td>\n",
       "      <td>0.471</td>\n",
       "      <td>http://thumbs2.ebaystatic.com/d/l225/m/mzvzEUI...</td>\n",
       "      <td>http://www.ebay.com/itm/Sony-PlayStation-4-PS4...</td>\n",
       "      <td>$329.98</td>\n",
       "      <td>Sony PlayStation 4 (PS4) (Latest Model)- 500 G...</td>\n",
       "      <td>playstation 4</td>\n",
       "      <td>1</td>\n",
       "      <td>eBay</td>\n",
       "      <td>http://www.ebay.com/sch/i.html?_from=R40&amp;_trks...</td>\n",
       "      <td>The PlayStation 4 system opens the door to an ...</td>\n",
       "    </tr>\n",
       "    <tr>\n",
       "      <th>1</th>\n",
       "      <td>711158460</td>\n",
       "      <td>4.00</td>\n",
       "      <td>0.000</td>\n",
       "      <td>http://thumbs3.ebaystatic.com/d/l225/m/mJNDmSy...</td>\n",
       "      <td>http://www.ebay.com/itm/Sony-PlayStation-4-Lat...</td>\n",
       "      <td>$324.84</td>\n",
       "      <td>Sony PlayStation 4 (Latest Model)- 500 GB Jet ...</td>\n",
       "      <td>playstation 4</td>\n",
       "      <td>2</td>\n",
       "      <td>eBay</td>\n",
       "      <td>http://www.ebay.com/sch/i.html?_from=R40&amp;_trks...</td>\n",
       "      <td>The PlayStation 4 system opens the door to an ...</td>\n",
       "    </tr>\n",
       "    <tr>\n",
       "      <th>2</th>\n",
       "      <td>711158461</td>\n",
       "      <td>4.00</td>\n",
       "      <td>0.000</td>\n",
       "      <td>http://thumbs4.ebaystatic.com/d/l225/m/m10NZXA...</td>\n",
       "      <td>http://www.ebay.com/itm/Sony-PlayStation-4-PS4...</td>\n",
       "      <td>$324.83</td>\n",
       "      <td>Sony PlayStation 4 PS4 500 GB Jet Black Console</td>\n",
       "      <td>playstation 4</td>\n",
       "      <td>3</td>\n",
       "      <td>eBay</td>\n",
       "      <td>http://www.ebay.com/sch/i.html?_from=R40&amp;_trks...</td>\n",
       "      <td>The PlayStation 4 system opens the door to an ...</td>\n",
       "    </tr>\n",
       "    <tr>\n",
       "      <th>3</th>\n",
       "      <td>711158462</td>\n",
       "      <td>3.67</td>\n",
       "      <td>0.471</td>\n",
       "      <td>http://thumbs2.ebaystatic.com/d/l225/m/mZZXTmA...</td>\n",
       "      <td>http://www.ebay.com/itm/Sony-PlayStation-4-500...</td>\n",
       "      <td>$350.00</td>\n",
       "      <td>Sony - PlayStation 4 500GB The Last of Us Rema...</td>\n",
       "      <td>playstation 4</td>\n",
       "      <td>4</td>\n",
       "      <td>eBay</td>\n",
       "      <td>http://www.ebay.com/sch/i.html?_from=R40&amp;_trks...</td>\n",
       "      <td>NaN</td>\n",
       "    </tr>\n",
       "    <tr>\n",
       "      <th>4</th>\n",
       "      <td>711158463</td>\n",
       "      <td>3.33</td>\n",
       "      <td>0.471</td>\n",
       "      <td>http://thumbs3.ebaystatic.com/d/l225/m/mzvzEUI...</td>\n",
       "      <td>http://www.ebay.com/itm/Sony-PlayStation-4-PS4...</td>\n",
       "      <td>$308.00\\nTrending at\\n$319.99</td>\n",
       "      <td>Sony PlayStation 4 (PS4) (Latest Model)- 500 G...</td>\n",
       "      <td>playstation 4</td>\n",
       "      <td>5</td>\n",
       "      <td>eBay</td>\n",
       "      <td>http://www.ebay.com/sch/i.html?_from=R40&amp;_trks...</td>\n",
       "      <td>The PlayStation 4 system opens the door to an ...</td>\n",
       "    </tr>\n",
       "  </tbody>\n",
       "</table>\n",
       "</div>"
      ],
      "text/plain": [
       "    _unit_id  relevance  relevance:variance  \\\n",
       "0  711158459       3.67               0.471   \n",
       "1  711158460       4.00               0.000   \n",
       "2  711158461       4.00               0.000   \n",
       "3  711158462       3.67               0.471   \n",
       "4  711158463       3.33               0.471   \n",
       "\n",
       "                                       product_image  \\\n",
       "0  http://thumbs2.ebaystatic.com/d/l225/m/mzvzEUI...   \n",
       "1  http://thumbs3.ebaystatic.com/d/l225/m/mJNDmSy...   \n",
       "2  http://thumbs4.ebaystatic.com/d/l225/m/m10NZXA...   \n",
       "3  http://thumbs2.ebaystatic.com/d/l225/m/mZZXTmA...   \n",
       "4  http://thumbs3.ebaystatic.com/d/l225/m/mzvzEUI...   \n",
       "\n",
       "                                        product_link  \\\n",
       "0  http://www.ebay.com/itm/Sony-PlayStation-4-PS4...   \n",
       "1  http://www.ebay.com/itm/Sony-PlayStation-4-Lat...   \n",
       "2  http://www.ebay.com/itm/Sony-PlayStation-4-PS4...   \n",
       "3  http://www.ebay.com/itm/Sony-PlayStation-4-500...   \n",
       "4  http://www.ebay.com/itm/Sony-PlayStation-4-PS4...   \n",
       "\n",
       "                   product_price  \\\n",
       "0                       $329.98    \n",
       "1                       $324.84    \n",
       "2                       $324.83    \n",
       "3                       $350.00    \n",
       "4  $308.00\\nTrending at\\n$319.99   \n",
       "\n",
       "                                       product_title          query  rank  \\\n",
       "0  Sony PlayStation 4 (PS4) (Latest Model)- 500 G...  playstation 4     1   \n",
       "1  Sony PlayStation 4 (Latest Model)- 500 GB Jet ...  playstation 4     2   \n",
       "2    Sony PlayStation 4 PS4 500 GB Jet Black Console  playstation 4     3   \n",
       "3  Sony - PlayStation 4 500GB The Last of Us Rema...  playstation 4     4   \n",
       "4  Sony PlayStation 4 (PS4) (Latest Model)- 500 G...  playstation 4     5   \n",
       "\n",
       "  source                                                url  \\\n",
       "0   eBay  http://www.ebay.com/sch/i.html?_from=R40&_trks...   \n",
       "1   eBay  http://www.ebay.com/sch/i.html?_from=R40&_trks...   \n",
       "2   eBay  http://www.ebay.com/sch/i.html?_from=R40&_trks...   \n",
       "3   eBay  http://www.ebay.com/sch/i.html?_from=R40&_trks...   \n",
       "4   eBay  http://www.ebay.com/sch/i.html?_from=R40&_trks...   \n",
       "\n",
       "                                 product_description  \n",
       "0  The PlayStation 4 system opens the door to an ...  \n",
       "1  The PlayStation 4 system opens the door to an ...  \n",
       "2  The PlayStation 4 system opens the door to an ...  \n",
       "3                                                NaN  \n",
       "4  The PlayStation 4 system opens the door to an ...  "
      ]
     },
     "execution_count": 4,
     "metadata": {},
     "output_type": "execute_result"
    }
   ],
   "source": [
    "df.head()"
   ]
  },
  {
   "cell_type": "code",
   "execution_count": 5,
   "metadata": {},
   "outputs": [
    {
     "name": "stdout",
     "output_type": "stream",
     "text": [
      "Total Products Originally: 32671\n",
      "Total Products After Removing NA Values: 24800\n",
      "Total Products After Removing Duplicates: 22735\n"
     ]
    }
   ],
   "source": [
    "print(f'Total Products Originally: {len(df)}')\n",
    "df = df.dropna(subset=['product_title', 'product_description'])\n",
    "print(f'Total Products After Removing NA Values: {len(df)}')\n",
    "df = df.drop_duplicates(subset=['product_title'])\n",
    "print(f'Total Products After Removing Duplicates: {len(df)}')"
   ]
  },
  {
   "cell_type": "code",
   "execution_count": 6,
   "metadata": {},
   "outputs": [],
   "source": [
    "df_text = list(df.product_description.apply(cleanRawText))"
   ]
  },
  {
   "cell_type": "code",
   "execution_count": 7,
   "metadata": {},
   "outputs": [],
   "source": [
    "def tagged_document(list_of_list_of_words):\n",
    "   for i, list_of_words in enumerate(list_of_list_of_words):\n",
    "      yield TaggedDocument(list_of_words, [i])\n",
    "        \n",
    "dataDoc = list(tagged_document(df_text))"
   ]
  },
  {
   "cell_type": "code",
   "execution_count": 8,
   "metadata": {},
   "outputs": [],
   "source": [
    "def similar_products(model, product):\n",
    "    productDes = cleanRawText(df.product_description.loc[(df.product_title == product)].values[0])\n",
    "    productVec = model.infer_vector(productDes)\n",
    "    similar = model.docvecs.most_similar([productVec])\n",
    "    for tag, similarity in similar:\n",
    "        print(df.product_title.iloc[tag])\n",
    "        print(similarity)"
   ]
  },
  {
   "cell_type": "code",
   "execution_count": 9,
   "metadata": {},
   "outputs": [],
   "source": [
    "def random_product(model):\n",
    "    randomProduct = df.product_title.sample(1).values[0]\n",
    "    print(randomProduct)\n",
    "    print('----------------')\n",
    "    similar_products(model, randomProduct)"
   ]
  },
  {
   "cell_type": "code",
   "execution_count": 53,
   "metadata": {},
   "outputs": [
    {
     "name": "stdout",
     "output_type": "stream",
     "text": [
      "Doc2Vec(dbow,d300,n5,s0.001,t3)\n"
     ]
    }
   ],
   "source": [
    "modelDoc1 = Doc2Vec(dm=0, vector_size=300, window_size=10, \n",
    "                    min_count=1, negative=5, sampling_threshold=10e-5, worker_count=-1)\n",
    "\n",
    "modelDoc1.build_vocab(dataDoc)\n",
    "\n",
    "modelDoc1.train(dataDoc, total_examples=modelDoc1.corpus_count, epochs=20)\n",
    "\n",
    "print(modelDoc1)"
   ]
  },
  {
   "cell_type": "code",
   "execution_count": 59,
   "metadata": {},
   "outputs": [
    {
     "name": "stdout",
     "output_type": "stream",
     "text": [
      "Doc2Vec(dm/m,d300,n5,w5,s0.001,t3)\n"
     ]
    }
   ],
   "source": [
    "modelDoc2 = Doc2Vec(dm=1, vector_size=300, window_size=15, \n",
    "                    min_count=1, negative=5, sampling_threshold=10e-6, worker_count=-1)\n",
    "\n",
    "modelDoc2.build_vocab(dataDoc)\n",
    "\n",
    "modelDoc2.train(dataDoc, total_examples=modelDoc2.corpus_count, epochs=30)\n",
    "\n",
    "print(modelDoc2)"
   ]
  },
  {
   "cell_type": "code",
   "execution_count": 60,
   "metadata": {},
   "outputs": [
    {
     "name": "stdout",
     "output_type": "stream",
     "text": [
      "Varicraft AV-2M Avian Mixed Seed Feeder\n",
      "0.957420825958252\n",
      "Audubon 4 Port Brushed Copper Seed Feeder\n",
      "0.8198021054267883\n",
      "Droll Yankees X1 Seed Saver Domed Feeder\n",
      "0.7937068343162537\n",
      "Perky-Pet Mixed Seed Forest Green Lantern Wild Bird Feeder MGNCD00352\n",
      "0.7746235728263855\n",
      "More Birds Abundance Seed Feeder, Gray\n",
      "0.7630696296691895\n",
      "NO/NO Mixed Seed Lantern Wild Bird Feeder\n",
      "0.7628263831138611\n",
      "WoodLink Mixed Seed Metal Lantern Bird Feeder - Bird Feeders\n",
      "0.7583979368209839\n",
      "Stokes Select Jumbo Seed Tube Bird Feeder-JUMBO SEED TUBE FEEDER\n",
      "0.752517580986023\n",
      "Nature's Way Bamboo Hanging Platform Feeder\n",
      "0.7522631287574768\n",
      "Perky-Pet Sunflower Seed Red Lantern Wild Bird Feeder CNCD00351\n",
      "0.748096227645874\n"
     ]
    }
   ],
   "source": [
    "similar_products(modelDoc1, 'Varicraft AV-2M Avian Mixed Seed Feeder')"
   ]
  },
  {
   "cell_type": "code",
   "execution_count": 61,
   "metadata": {},
   "outputs": [
    {
     "name": "stdout",
     "output_type": "stream",
     "text": [
      "Varicraft AV-2M Avian Mixed Seed Feeder\n",
      "0.856534481048584\n",
      "Mondevio Silver Peace Necklace\n",
      "0.7336527705192566\n",
      "Houndstooth Comforter Set - Size: Full / Queen, Color: Purple\n",
      "0.7320859432220459\n",
      "Screen Protectors for Samsung Galaxy Note 10.1 in. Tablet\n",
      "0.7105859518051147\n",
      "4 Film Favorites: Teenage Mutant Ninja Turtles (DVD)\n",
      "0.7078649997711182\n",
      "Graco Roomfor2 Classic Connect  Stand & Ride Stroller - Metropolis\n",
      "0.707024335861206\n",
      "Barnes High Street Classic Square Nickel Table Clock\n",
      "0.7057576179504395\n",
      "Victorinox Swiss Army Huntsman Sapphire Pocket Knife\n",
      "0.7036020159721375\n",
      "Thierry Mugler 'Alien' Women's 1-ounce Eau De Parfum Spray\n",
      "0.6917333006858826\n",
      "7' Pre-Lit Brinkley Pine Christmas Tree with Colonial Blue Decoration Kit\n",
      "0.6886978149414062\n"
     ]
    }
   ],
   "source": [
    "similar_products(modelDoc2, 'Varicraft AV-2M Avian Mixed Seed Feeder')"
   ]
  },
  {
   "cell_type": "code",
   "execution_count": 122,
   "metadata": {},
   "outputs": [],
   "source": [
    "class Model:\n",
    "    \n",
    "    def __init__(self, **kwargs):\n",
    "        \n",
    "        self.dm = 0\n",
    "        self.vector_size = 300\n",
    "        self.window_size = 15\n",
    "        self.min_count = 1\n",
    "        self.negative = 5\n",
    "        self.sampling_threshold = 10e-5\n",
    "        self.worker_count = -1\n",
    "        \n",
    "        self.__dict__.update(kwargs)\n",
    "\n",
    "        self.model = Doc2Vec(**self.__dict__)\n",
    "\n",
    "    def train(self, data, epochs=20):\n",
    "        self.model.build_vocab(data)\n",
    "        self.model.train(data, total_examples=self.model.corpus_count, epochs=epochs)\n",
    "        \n",
    "    def most_similar(self, tag):\n",
    "        for tag,similarity in self.model.docvecs.most_similar(tag):\n",
    "            print(df.product_title.iloc[tag])\n",
    "            print(similarity)\n"
   ]
  },
  {
   "cell_type": "code",
   "execution_count": 118,
   "metadata": {},
   "outputs": [],
   "source": [
    "model_1 = Model(vector_size=301)"
   ]
  },
  {
   "cell_type": "code",
   "execution_count": 119,
   "metadata": {},
   "outputs": [],
   "source": [
    "model_1.train(dataDoc)"
   ]
  },
  {
   "cell_type": "code",
   "execution_count": 120,
   "metadata": {},
   "outputs": [
    {
     "name": "stdout",
     "output_type": "stream",
     "text": [
      "Varicraft AV-2M Avian Mixed Seed Feeder\n",
      "0.9408191442489624\n",
      "Audubon 4 Port Brushed Copper Seed Feeder\n",
      "0.8678876161575317\n",
      "Droll Yankees X1 Seed Saver Domed Feeder\n",
      "0.866484522819519\n",
      "Perky-Pet Mixed Seed Forest Green Lantern Wild Bird Feeder MGNCD00352\n",
      "0.8371147513389587\n",
      "Woodstream Seed Barn Bird Feeder\n",
      "0.8310158848762512\n",
      "Crescent Moon Bird Feeder\n",
      "0.8175684213638306\n",
      "NO/NO Mixed Seed Lantern Wild Bird Feeder\n",
      "0.8131281733512878\n",
      "Nature's Way Bamboo Hanging Platform Feeder\n",
      "0.8123725652694702\n",
      "2-port Mixed Seed Bird Feeder\n",
      "0.8088411688804626\n",
      "More Birds Abundance Seed Feeder, Gray\n",
      "0.8087459206581116\n"
     ]
    }
   ],
   "source": [
    "similar_products(model_1.model, 'Varicraft AV-2M Avian Mixed Seed Feeder')"
   ]
  },
  {
   "cell_type": "code",
   "execution_count": 121,
   "metadata": {},
   "outputs": [
    {
     "name": "stdout",
     "output_type": "stream",
     "text": [
      "Sony PlayStation 4 (Latest Model)- 500 GB Jet Black Console *NEW*\n",
      "0.9985468983650208\n",
      "Sony PlayStation 4 (Latest Model)- 500 GB Jet Black Console\n",
      "0.9982041716575623\n",
      "Sony PlayStation 4 (PS4) (Latest Model)- 500 GB Jet Black Console\n",
      "0.9980528354644775\n",
      "Sony PlayStation 4 (Latest Model) 500 GB Jet Black Console\n",
      "0.9976085424423218\n",
      "Sony PlayStation 4 500GB, Dualshock Wireless Control, HDMI Gaming Console Refurb\n",
      "0.9975502490997314\n",
      "Sony PlayStation 4 500GB Console with 2 Controllers\n",
      "0.9973635673522949\n",
      "PS4 Console Solution Bundle and Bonus Controller\n",
      "0.9275268316268921\n",
      "Playstation 4 Console (PS4), Refurbished\n",
      "0.925129771232605\n",
      "PS4 Console and Last of Us Game Bundle plus Choice of 2 Games\n",
      "0.924584150314331\n",
      "Sony PlayStation 4 - game console - 500 GB HDD\n",
      "0.9217274188995361\n"
     ]
    }
   ],
   "source": [
    "model_1.most_similar(2)"
   ]
  },
  {
   "cell_type": "code",
   "execution_count": null,
   "metadata": {},
   "outputs": [],
   "source": []
  }
 ],
 "metadata": {
  "kernelspec": {
   "display_name": "Python 3",
   "language": "python",
   "name": "python3"
  },
  "language_info": {
   "codemirror_mode": {
    "name": "ipython",
    "version": 3
   },
   "file_extension": ".py",
   "mimetype": "text/x-python",
   "name": "python",
   "nbconvert_exporter": "python",
   "pygments_lexer": "ipython3",
   "version": "3.7.9"
  }
 },
 "nbformat": 4,
 "nbformat_minor": 4
}
