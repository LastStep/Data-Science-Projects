{
 "cells": [
  {
   "cell_type": "code",
   "execution_count": 1,
   "metadata": {},
   "outputs": [],
   "source": [
    "from __future__ import print_function\n",
    "import pickle\n",
    "import os.path\n",
    "from googleapiclient.discovery import build\n",
    "from google_auth_oauthlib.flow import InstalledAppFlow\n",
    "from google.auth.transport.requests import Request\n",
    "import configparser\n",
    "from datetime import datetime"
   ]
  },
  {
   "cell_type": "code",
   "execution_count": 2,
   "metadata": {},
   "outputs": [],
   "source": [
    "#Google Sheet OAth\n",
    "def authenticate():\n",
    "    # If modifying these scopes, delete the file token.pickle.\n",
    "    SCOPES = ['https://www.googleapis.com/auth/spreadsheets']\n",
    "\n",
    "    \"\"\"Shows basic usage of the Sheets API.\n",
    "    Prints values from a sample spreadsheet.\n",
    "    \"\"\"\n",
    "    creds = None\n",
    "    # The file token.pickle stores the user's access and refresh tokens, and is\n",
    "    # created automatically when the authorization flow completes for the first\n",
    "    # time.\n",
    "    if os.path.exists('token.pickle'):\n",
    "        with open('token.pickle', 'rb') as token:\n",
    "            creds = pickle.load(token)\n",
    "    # If there are no (valid) credentials available, let the user log in.\n",
    "    if not creds or not creds.valid:\n",
    "        if creds and creds.expired and creds.refresh_token:\n",
    "            creds.refresh(Request())\n",
    "        else:\n",
    "            flow = InstalledAppFlow.from_client_secrets_file(\n",
    "                'credentials.json', SCOPES)\n",
    "            creds = flow.run_local_server(port=0)\n",
    "        # Save the credentials for the next run\n",
    "        with open('token.pickle', 'wb') as token:\n",
    "            pickle.dump(creds, token)\n",
    "\n",
    "    service = build('sheets', 'v4', credentials=creds)\n",
    "    return service\n",
    "\n",
    "service = authenticate()"
   ]
  },
  {
   "cell_type": "code",
   "execution_count": 3,
   "metadata": {},
   "outputs": [],
   "source": [
    "def create_sheet(title):\n",
    "    spreadsheet = {\n",
    "        'properties': {\n",
    "            'title': title\n",
    "        }\n",
    "    }\n",
    "    spreadsheet = service.spreadsheets().create(body=spreadsheet,\n",
    "                                        fields='spreadsheetId').execute()\n",
    "    print('Spreadsheet ID: {0}'.format(spreadsheet.get('spreadsheetId')))\n",
    "    return spreadsheet.get('spreadsheetId')\n",
    "\n",
    "\n",
    "def get_data(spreadsheet_id, range_name='Sheet1'):\n",
    "    result = service.spreadsheets().values().get(\n",
    "        spreadsheetId=spreadsheet_id, range=range_name).execute()\n",
    "    rows = result.get('values', [])\n",
    "    return rows\n",
    "\n",
    "\n",
    "def initiate_header(spreadsheet_id, range_name='Sheet1'):\n",
    "    prev_data = len(get_data(spreadsheet_id))\n",
    "    if prev_data > 0:\n",
    "        return\n",
    "    elif prev_data == 0:\n",
    "        data = [['Person', 'Probability', 'Recorded Time']]\n",
    "\n",
    "    body = {\n",
    "        'values': [i for i in data]\n",
    "    }\n",
    "\n",
    "    service.spreadsheets().values().update(\n",
    "        spreadsheetId=spreadsheet_id, range=range_name,\n",
    "        valueInputOption='RAW', body=body).execute()\n",
    "\n",
    "    \n",
    "def upload_data(spreadsheet_id, data, range_name='Sheet1'):\n",
    "    body = {\n",
    "      'values': [i for i in data]\n",
    "    }\n",
    "\n",
    "    service.spreadsheets().values().append(\n",
    "      spreadsheetId=spreadsheet_id, range=range_name,\n",
    "      valueInputOption='RAW', body=body).execute()\n",
    "    \n",
    "\n",
    "def check_for_new_run(spreadsheet_name, config_file = 'smart_security_config.ini'):\n",
    "    config = configparser.ConfigParser()\n",
    "    if not os.path.exists(config_file):\n",
    "        config['base'] = {'current_date': '', 'spreadsheet_id': ''}\n",
    "    else:\n",
    "        config.read(config_file)\n",
    "\n",
    "    current_date = datetime.today().strftime(\"%d-%m-%Y\")\n",
    "    config_date = config['base']['current_date']\n",
    "    if config_date.strip() == current_date.strip() and config['base']['spreadsheet_id'] is not '':\n",
    "        print(\n",
    "            \"Script already ran today, not creating a new spreadsheet\")\n",
    "        spreadsheet_id = config['base']['spreadsheet_id']\n",
    "        print(f\"Spreadsheet ID: {spreadsheet_id}\")\n",
    "    else:\n",
    "        print(\n",
    "            f\"Script last run on {config_date}. Date today: {current_date}\")\n",
    "        print(\"Creating new spreadsheet\")\n",
    "        spreadsheet_id = create_sheet(spreadsheet_name)\n",
    "        config['base']['spreadsheet_id'] = spreadsheet_id\n",
    "        config['base']['current_date'] = current_date\n",
    "\n",
    "    # check if header exists and create otherwise\n",
    "    initiate_header(spreadsheet_id)\n",
    "    with open(config_file, 'w') as conf:\n",
    "        config.write(conf)\n",
    "    return spreadsheet_id"
   ]
  },
  {
   "cell_type": "code",
   "execution_count": 4,
   "metadata": {},
   "outputs": [
    {
     "name": "stdout",
     "output_type": "stream",
     "text": [
      "Script already ran today, not creating a new spreadsheet\n",
      "Spreadsheet ID: 1_SyfY2ZUM7JQ7SKKVa5sKAt9pz-nbB-gTlRV59OmbQ8\n",
      "https://docs.google.com/spreadsheets/d/1_SyfY2ZUM7JQ7SKKVa5sKAt9pz-nbB-gTlRV59OmbQ8\n"
     ]
    }
   ],
   "source": [
    "spreadsheet_name = \"Smart Security Log %s\" % (datetime.today().strftime(\"%d-%m-%Y\"))\n",
    "spreadsheet_id = check_for_new_run(spreadsheet_name)\n",
    "print(f'https://docs.google.com/spreadsheets/d/{spreadsheet_id}')"
   ]
  },
  {
   "cell_type": "code",
   "execution_count": null,
   "metadata": {},
   "outputs": [],
   "source": []
  }
 ],
 "metadata": {
  "kernelspec": {
   "display_name": "Python 3",
   "language": "python",
   "name": "python3"
  },
  "language_info": {
   "codemirror_mode": {
    "name": "ipython",
    "version": 3
   },
   "file_extension": ".py",
   "mimetype": "text/x-python",
   "name": "python",
   "nbconvert_exporter": "python",
   "pygments_lexer": "ipython3",
   "version": "3.7.9"
  }
 },
 "nbformat": 4,
 "nbformat_minor": 4
}
