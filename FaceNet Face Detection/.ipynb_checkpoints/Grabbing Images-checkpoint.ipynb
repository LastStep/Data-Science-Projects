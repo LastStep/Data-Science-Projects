{
 "cells": [
  {
   "cell_type": "code",
   "execution_count": 52,
   "metadata": {},
   "outputs": [],
   "source": [
    "import os\n",
    "import math\n",
    "\n",
    "import requests\n",
    "from bs4 import BeautifulSoup as bs"
   ]
  },
  {
   "cell_type": "code",
   "execution_count": 16,
   "metadata": {},
   "outputs": [],
   "source": [
    "r = requests.get('http://vis-www.cs.umass.edu/lfw/number_11.html')\n",
    "soup = bs(r.text, 'html.parser')\n",
    "soup_images = soup.find_all('img', attrs={'alt': 'person image'})"
   ]
  },
  {
   "cell_type": "code",
   "execution_count": 17,
   "metadata": {},
   "outputs": [],
   "source": [
    "persons = []\n",
    "for person in soup_images:\n",
    "    person_name = person['src'].split('/')[-2]\n",
    "    persons.append(person_name)"
   ]
  },
  {
   "cell_type": "code",
   "execution_count": 31,
   "metadata": {},
   "outputs": [],
   "source": [
    "def get_images(url):\n",
    "    r = requests.get(url)\n",
    "    soup = bs(r.text, 'html.parser')\n",
    "    images = soup.find_all('img', attrs={'alt': lambda x: x and x.startswith('Original image')})\n",
    "    image_urls = [\"http://vis-www.cs.umass.edu/lfw\" + i['src'][2:] for i in images]\n",
    "    return image_urls"
   ]
  },
  {
   "cell_type": "code",
   "execution_count": 70,
   "metadata": {},
   "outputs": [],
   "source": [
    "def download_image(url, path):\n",
    "    r = requests.get(url, stream=True)\n",
    "    if r.status_code == 200:\n",
    "        with open(path, 'wb') as f:\n",
    "            for chunk in r.iter_content(1024):\n",
    "                f.write(chunk)\n",
    "        \n",
    "def save_images(person_name, images, folder='downloads'):\n",
    "    for image_url in images:\n",
    "        image_name = image_url.split('/')[-1]\n",
    "        image_folder = f\"{folder}\\\\{person_name}\"\n",
    "        if not os.path.exists(image_folder):\n",
    "            os.makedirs(image_folder)\n",
    "        image_path = image_folder + f'\\\\{image_name}'\n",
    "        download_image(image_url, image_path)"
   ]
  },
  {
   "cell_type": "code",
   "execution_count": 71,
   "metadata": {},
   "outputs": [],
   "source": [
    "def split_images(images):\n",
    "    total_images = len(images)\n",
    "    split_val = math.floor(.8 * total_images)\n",
    "    training_images = images[:split_val]\n",
    "    testing_images = images[split_val:]\n",
    "    return training_images, testing_images"
   ]
  },
  {
   "cell_type": "code",
   "execution_count": null,
   "metadata": {},
   "outputs": [
    {
     "name": "stdout",
     "output_type": "stream",
     "text": [
      "Working on Ann_Veneman\n",
      "Images found: 11\n",
      "Working on Catherine_Zeta-Jones\n",
      "Images found: 11\n",
      "Working on Condoleezza_Rice\n",
      "Images found: 11\n",
      "Working on James_Kelly\n",
      "Images found: 11\n",
      "Working on Jiri_Novak\n",
      "Images found: 11\n",
      "Working on John_Allen_Muhammad\n",
      "Images found: 11\n",
      "Working on John_Paul_II\n",
      "Images found: 11\n",
      "Working on Kim_Ryong-sung\n",
      "Images found: 11\n",
      "Working on Mark_Philippoussis\n",
      "Images found: 11\n",
      "Working on Mike_Weir\n",
      "Images found: 11\n",
      "Working on Nicanor_Duarte_Frutos\n",
      "Images found: 11\n",
      "Working on Paul_Burrell\n",
      "Images found: 11\n",
      "Working on Richard_Gephardt\n",
      "Images found: 11\n",
      "Working on Sergey_Lavrov\n",
      "Images found: 11\n",
      "Working on Sergio_Vieira_De_Mello\n",
      "Images found: 11\n",
      "Working on Tang_Jiaxuan\n",
      "Images found: 11\n",
      "Working on Adrien_Brody\n",
      "Images found: 12\n"
     ]
    }
   ],
   "source": [
    "base_link = \"http://vis-www.cs.umass.edu/lfw/person/{}.html\"\n",
    "for person in persons:\n",
    "    print(f\"Working on {person}\")\n",
    "    person_link = base_link.format(person)\n",
    "    images = get_images(person_link)\n",
    "    print(f\"Images found: {len(images)}\")\n",
    "    if len(images) == 0:\n",
    "        continue\n",
    "    train, test = split_images(images)\n",
    "    save_images(person, images)\n",
    "    save_images(person, train, folder='training')\n",
    "    save_images(person, test, folder='testing')\n",
    "print(\"Finished downloading images\")"
   ]
  },
  {
   "cell_type": "code",
   "execution_count": null,
   "metadata": {},
   "outputs": [],
   "source": []
  }
 ],
 "metadata": {
  "kernelspec": {
   "display_name": "Python 3",
   "language": "python",
   "name": "python3"
  },
  "language_info": {
   "codemirror_mode": {
    "name": "ipython",
    "version": 3
   },
   "file_extension": ".py",
   "mimetype": "text/x-python",
   "name": "python",
   "nbconvert_exporter": "python",
   "pygments_lexer": "ipython3",
   "version": "3.7.9"
  }
 },
 "nbformat": 4,
 "nbformat_minor": 4
}
