{
 "cells": [
  {
   "cell_type": "markdown",
   "metadata": {},
   "source": [
    "# Importing Modules"
   ]
  },
  {
   "cell_type": "code",
   "execution_count": 1,
   "metadata": {},
   "outputs": [],
   "source": [
    "from os import listdir\n",
    "from os.path import isdir\n",
    "from random import choice\n",
    "\n",
    "from PIL import Image\n",
    "from matplotlib import pyplot\n",
    "\n",
    "from numpy import savez_compressed\n",
    "from numpy import asarray\n",
    "from numpy import load\n",
    "from numpy import expand_dims\n",
    "\n",
    "from mtcnn.mtcnn import MTCNN\n",
    "from keras.models import load_model\n",
    "from sklearn.metrics import accuracy_score\n",
    "from sklearn.preprocessing import LabelEncoder\n",
    "from sklearn.preprocessing import Normalizer\n",
    "from sklearn.svm import SVC\n",
    "\n",
    "import pickle\n",
    "\n",
    "dataset_folder = 'Celebrity Faces Dataset'\n",
    "facenet_model = load_model('keras-facenet/model/facenet_keras.h5', compile=False)"
   ]
  },
  {
   "cell_type": "markdown",
   "metadata": {},
   "source": [
    "# Functions for extracting faces and creating embeddings"
   ]
  },
  {
   "cell_type": "code",
   "execution_count": 2,
   "metadata": {
    "scrolled": true
   },
   "outputs": [],
   "source": [
    "# create the detector, using default weights\n",
    "detector = MTCNN()\n",
    "    \n",
    "# extract a single face from a given photograph\n",
    "def extract_face(filename, required_size=(160, 160)):\n",
    "\t# load image from file\n",
    "\timage = Image.open(filename)\n",
    "\t# convert to RGB, if needed\n",
    "\timage = image.convert('RGB')\n",
    "\t# convert to array\n",
    "\tpixels = asarray(image)\n",
    "\t# detect faces in the image\n",
    "\tresults = detector.detect_faces(pixels)\n",
    "\t# extract the bounding box from the first face\n",
    "\tx1, y1, width, height = results[0]['box']\n",
    "\t# bug fix\n",
    "\tx1, y1 = abs(x1), abs(y1)\n",
    "\tx2, y2 = x1 + width, y1 + height\n",
    "\t# extract the face\n",
    "\tface = pixels[y1:y2, x1:x2]\n",
    "\t# resize pixels to the model size\n",
    "\timage = Image.fromarray(face)\n",
    "\timage = image.resize(required_size)\n",
    "\tface_array = asarray(image)\n",
    "\treturn face_array\n",
    "\n",
    "# get the face embedding for one face\n",
    "def get_embedding(model, face_pixels):\n",
    "\t# scale pixel values\n",
    "\tface_pixels = face_pixels.astype('float32')\n",
    "\t# standardize pixel values across channels (global)\n",
    "\tmean, std = face_pixels.mean(), face_pixels.std()\n",
    "\tface_pixels = (face_pixels - mean) / std\n",
    "\t# transform face into one sample\n",
    "\tsamples = expand_dims(face_pixels, axis=0)\n",
    "\t# make prediction to get embedding\n",
    "\tyhat = model.predict(samples)\n",
    "\treturn yhat[0]"
   ]
  },
  {
   "cell_type": "markdown",
   "metadata": {},
   "source": [
    "# Loading and Saving Dataset as npz"
   ]
  },
  {
   "cell_type": "code",
   "execution_count": 3,
   "metadata": {},
   "outputs": [],
   "source": [
    "# load images and extract faces for all images in a directory\n",
    "def load_faces(directory):\n",
    "\tfaces = list()\n",
    "\t# enumerate files\n",
    "\tfor filename in listdir(directory):\n",
    "\t\t# path\n",
    "\t\tpath = directory + filename\n",
    "\t\t# get face\n",
    "\t\tface = extract_face(path)\n",
    "\t\t# store\n",
    "\t\tfaces.append(face)\n",
    "\treturn faces\n",
    "\n",
    "# load a dataset that contains one subdir for each class that in turn contains images\n",
    "def load_dataset(directory):\n",
    "\tX, y = list(), list()\n",
    "\t# enumerate folders, on per class\n",
    "\tfor subdir in listdir(directory):\n",
    "\t\t# path\n",
    "\t\tpath = directory + subdir + '/'\n",
    "\t\t# skip any files that might be in the dir\n",
    "\t\tif not isdir(path):\n",
    "\t\t\tcontinue\n",
    "\t\t# load all faces in the subdirectory\n",
    "\t\tfaces = load_faces(path)\n",
    "\t\t# create labels\n",
    "\t\tlabels = [subdir for _ in range(len(faces))]\n",
    "\t\t# summarize progress\n",
    "\t\tprint('>loaded %d examples for class: %s' % (len(faces), subdir))\n",
    "\t\t# store\n",
    "\t\tX.extend(faces)\n",
    "\t\ty.extend(labels)\n",
    "\treturn asarray(X), asarray(y)"
   ]
  },
  {
   "cell_type": "code",
   "execution_count": null,
   "metadata": {
    "code_folding": []
   },
   "outputs": [
    {
     "name": "stdout",
     "output_type": "stream",
     "text": [
      "WARNING:tensorflow:5 out of the last 8 calls to <function Model.make_predict_function.<locals>.predict_function at 0x00000246D5D24678> triggered tf.function retracing. Tracing is expensive and the excessive number of tracings could be due to (1) creating @tf.function repeatedly in a loop, (2) passing tensors with different shapes, (3) passing Python objects instead of tensors. For (1), please define your @tf.function outside of the loop. For (2), @tf.function has experimental_relax_shapes=True option that relaxes argument shapes that can avoid unnecessary retracing. For (3), please refer to https://www.tensorflow.org/tutorials/customization/performance#python_or_tensor_args and https://www.tensorflow.org/api_docs/python/tf/function for  more details.\n",
      ">loaded 31 examples for class: Alejandro_Toledo\n",
      ">loaded 28 examples for class: Alvaro_Uribe\n",
      ">loaded 28 examples for class: Andre_Agassi\n",
      ">loaded 61 examples for class: Ariel_Sharon\n",
      ">loaded 33 examples for class: Arnold_Schwarzenegger\n",
      ">loaded 24 examples for class: David_Beckham\n",
      ">loaded 35 examples for class: Gloria_Macapagal_Arroyo\n"
     ]
    }
   ],
   "source": [
    "# load train dataset\n",
    "trainX, trainy = load_dataset(dataset_folder+'/train/')\n",
    "print(trainX.shape, trainy.shape)\n",
    "# load test dataset\n",
    "testX, testy = load_dataset(dataset_folder+'/test/')\n",
    "# save arrays to one file in compressed format\n",
    "savez_compressed('celebrity-faces-dataset.npz', trainX, trainy, testX, testy)"
   ]
  },
  {
   "cell_type": "markdown",
   "metadata": {},
   "source": [
    "# Creating Embeddings from Saved Dataset"
   ]
  },
  {
   "cell_type": "code",
   "execution_count": 3,
   "metadata": {
    "code_folding": []
   },
   "outputs": [
    {
     "name": "stdout",
     "output_type": "stream",
     "text": [
      "Loaded:  (93, 160, 160, 3) (93,) (25, 160, 160, 3) (25,)\n",
      "WARNING:tensorflow:No training configuration found in the save file, so the model was *not* compiled. Compile it manually.\n",
      "Loaded Model\n",
      "(93, 128)\n",
      "(25, 128)\n"
     ]
    }
   ],
   "source": [
    "# load the face dataset\n",
    "data = load('celebrity-faces-dataset.npz')\n",
    "trainX, trainy, testX, testy = data['arr_0'], data['arr_1'], data['arr_2'], data['arr_3']\n",
    "print('Loaded: ', trainX.shape, trainy.shape, testX.shape, testy.shape)\n",
    "\n",
    "# convert each face in the train set to an embedding\n",
    "newTrainX = list()\n",
    "for face_pixels in trainX:\n",
    "\tembedding = get_embedding(facenet_model, face_pixels)\n",
    "\tnewTrainX.append(embedding)\n",
    "newTrainX = asarray(newTrainX)\n",
    "print(newTrainX.shape)\n",
    "\n",
    "# convert each face in the test set to an embedding\n",
    "newTestX = list()\n",
    "for face_pixels in testX:\n",
    "\tembedding = get_embedding(facenet_model, face_pixels)\n",
    "\tnewTestX.append(embedding)\n",
    "newTestX = asarray(newTestX)\n",
    "print(newTestX.shape)\n",
    "\n",
    "# save arrays to one file in compressed format\n",
    "savez_compressed('celebrity-faces-embeddings.npz', newTrainX, trainy, newTestX, testy)"
   ]
  },
  {
   "cell_type": "markdown",
   "metadata": {},
   "source": [
    "# SVC Model"
   ]
  },
  {
   "cell_type": "code",
   "execution_count": 5,
   "metadata": {
    "code_folding": []
   },
   "outputs": [
    {
     "name": "stdout",
     "output_type": "stream",
     "text": [
      "Dataset: train=93, test=25\n",
      "Accuracy: train=100.000, test=100.000\n"
     ]
    }
   ],
   "source": [
    "# load dataset\n",
    "data = load('celebrity-faces-embeddings.npz')\n",
    "trainX, trainy, testX, testy = data['arr_0'], data['arr_1'], data['arr_2'], data['arr_3']\n",
    "print('Dataset: train=%d, test=%d' % (trainX.shape[0], testX.shape[0]))\n",
    "\n",
    "# normalize input vectors\n",
    "in_encoder = Normalizer(norm='l2')\n",
    "trainX = in_encoder.transform(trainX)\n",
    "testX = in_encoder.transform(testX)\n",
    "\n",
    "# label encode targets\n",
    "out_encoder = LabelEncoder()\n",
    "out_encoder.fit(trainy)\n",
    "trainy = out_encoder.transform(trainy)\n",
    "testy = out_encoder.transform(testy)\n",
    "\n",
    "# fit model\n",
    "model = SVC(kernel='linear', probability=True)\n",
    "model.fit(trainX, trainy)\n",
    "\n",
    "# predict\n",
    "yhat_train = model.predict(trainX)\n",
    "yhat_test = model.predict(testX)\n",
    "\n",
    "# score\n",
    "score_train = accuracy_score(trainy, yhat_train)\n",
    "score_test = accuracy_score(testy, yhat_test)\n",
    "\n",
    "# summarize\n",
    "print('Accuracy: train=%.3f, test=%.3f' % (score_train*100, score_test*100))"
   ]
  },
  {
   "cell_type": "code",
   "execution_count": 6,
   "metadata": {},
   "outputs": [],
   "source": [
    "f = open(\"facenet_model\", \"wb\")\n",
    "f.write(pickle.dumps(model))\n",
    "f.close()"
   ]
  },
  {
   "cell_type": "code",
   "execution_count": 12,
   "metadata": {},
   "outputs": [],
   "source": [
    "model = pickle.loads(open('facenet_model', \"rb\").read())"
   ]
  },
  {
   "cell_type": "markdown",
   "metadata": {},
   "source": [
    "# Random Testing"
   ]
  },
  {
   "cell_type": "code",
   "execution_count": 6,
   "metadata": {
    "code_folding": []
   },
   "outputs": [
    {
     "name": "stdout",
     "output_type": "stream",
     "text": [
      "Predicted: ben_afflek (72.015)\n",
      "Expected: ben_afflek\n"
     ]
    },
    {
     "data": {
      "image/png": "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\n",
      "text/plain": [
       "<Figure size 432x288 with 1 Axes>"
      ]
     },
     "metadata": {
      "needs_background": "light"
     },
     "output_type": "display_data"
    }
   ],
   "source": [
    "# load faces\n",
    "data = load('celebrity-faces-dataset.npz')\n",
    "testX_faces = data['arr_2']\n",
    "\n",
    "# load face embeddings\n",
    "data = load('celebrity-faces-embeddings.npz')\n",
    "trainX, trainy, testX, testy = data['arr_0'], data['arr_1'], data['arr_2'], data['arr_3']\n",
    "\n",
    "# normalize input vectors\n",
    "in_encoder = Normalizer(norm='l2')\n",
    "trainX = in_encoder.transform(trainX)\n",
    "testX = in_encoder.transform(testX)\n",
    "\n",
    "# label encode targets\n",
    "out_encoder = LabelEncoder()\n",
    "out_encoder.fit(trainy)\n",
    "trainy = out_encoder.transform(trainy)\n",
    "testy = out_encoder.transform(testy)\n",
    "\n",
    "# fit model\n",
    "model = SVC(kernel='linear', probability=True)\n",
    "model.fit(trainX, trainy)\n",
    "\n",
    "# test model on a random example from the test dataset\n",
    "selection = choice([i for i in range(testX.shape[0])])\n",
    "random_face_pixels = testX_faces[selection]\n",
    "random_face_emb = testX[selection]\n",
    "random_face_class = testy[selection]\n",
    "random_face_name = out_encoder.inverse_transform([random_face_class])\n",
    "\n",
    "# prediction for the face\n",
    "samples = expand_dims(random_face_emb, axis=0)\n",
    "yhat_class = model.predict(samples)\n",
    "yhat_prob = model.predict_proba(samples)\n",
    "\n",
    "# get name\n",
    "class_index = yhat_class[0]\n",
    "class_probability = yhat_prob[0,class_index] * 100\n",
    "predict_names = out_encoder.inverse_transform(yhat_class)\n",
    "print('Predicted: %s (%.3f)' % (predict_names[0], class_probability))\n",
    "print('Expected: %s' % random_face_name[0])\n",
    "\n",
    "# plot for fun\n",
    "pyplot.imshow(random_face_pixels)\n",
    "title = '%s (%.3f)' % (predict_names[0], class_probability)\n",
    "pyplot.title(title)\n",
    "pyplot.show()"
   ]
  },
  {
   "cell_type": "code",
   "execution_count": null,
   "metadata": {},
   "outputs": [],
   "source": []
  }
 ],
 "metadata": {
  "kernelspec": {
   "display_name": "Python 3",
   "language": "python",
   "name": "python3"
  },
  "language_info": {
   "codemirror_mode": {
    "name": "ipython",
    "version": 3
   },
   "file_extension": ".py",
   "mimetype": "text/x-python",
   "name": "python",
   "nbconvert_exporter": "python",
   "pygments_lexer": "ipython3",
   "version": "3.7.9"
  },
  "varInspector": {
   "cols": {
    "lenName": 16,
    "lenType": 16,
    "lenVar": 40
   },
   "kernels_config": {
    "python": {
     "delete_cmd_postfix": "",
     "delete_cmd_prefix": "del ",
     "library": "var_list.py",
     "varRefreshCmd": "print(var_dic_list())"
    },
    "r": {
     "delete_cmd_postfix": ") ",
     "delete_cmd_prefix": "rm(",
     "library": "var_list.r",
     "varRefresh